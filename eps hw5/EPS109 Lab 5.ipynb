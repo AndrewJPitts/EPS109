{
 "cells": [
  {
   "cell_type": "code",
   "execution_count": 1,
   "id": "51ae12cb",
   "metadata": {},
   "outputs": [],
   "source": [
    "import numpy as np\n",
    "import matplotlib.pyplot as plt"
   ]
  },
  {
   "cell_type": "markdown",
   "id": "6feeb7b6",
   "metadata": {},
   "source": [
    "# (1)"
   ]
  },
  {
   "cell_type": "code",
   "execution_count": 2,
   "id": "d1118801",
   "metadata": {},
   "outputs": [],
   "source": [
    "def mandelbrot(z,C):\n",
    "    zNew = z**2 + C\n",
    "    return zNew"
   ]
  },
  {
   "cell_type": "code",
   "execution_count": 3,
   "id": "6ccab5dd",
   "metadata": {},
   "outputs": [
    {
     "name": "stdout",
     "output_type": "stream",
     "text": [
      "-4\n",
      "12\n",
      "140\n",
      "diverges\n"
     ]
    }
   ],
   "source": [
    "C=-4\n",
    "z = 0\n",
    "for i in range(30):\n",
    "    z = mandelbrot(z,C)\n",
    "    print(z)\n",
    "    if np.abs(z)>=50:\n",
    "        print('diverges')\n",
    "        break"
   ]
  },
  {
   "cell_type": "markdown",
   "id": "60e99269",
   "metadata": {},
   "source": [
    "| C | Diverges? Yes/No |\n",
    "| --- | --- |\n",
    "| -4 | yes |\n",
    "| -2.001 | yes |\n",
    "| -2 | no |\n",
    "| -1.999 | no |\n",
    "| -1 | no |\n",
    "| 0 | no |\n",
    "| +0.5 | yes |\n",
    "| +1 | yes |\n",
    "| +2 | yes |"
   ]
  },
  {
   "cell_type": "markdown",
   "id": "fa7831f7",
   "metadata": {},
   "source": [
    "# (2)"
   ]
  },
  {
   "cell_type": "code",
   "execution_count": 4,
   "id": "d6b7c7f5",
   "metadata": {},
   "outputs": [
    {
     "data": {
      "text/plain": [
       "6001"
      ]
     },
     "execution_count": 4,
     "metadata": {},
     "output_type": "execute_result"
    }
   ],
   "source": [
    "C = np.arange(-4,2+0.001,0.001)\n",
    "C.size"
   ]
  },
  {
   "cell_type": "code",
   "execution_count": 5,
   "id": "9dad737e",
   "metadata": {},
   "outputs": [],
   "source": [
    "def f(C,nmax,zlim):\n",
    "    z=0\n",
    "    for i in range(nmax):\n",
    "        z = mandelbrot(z,C)\n",
    "        if np.abs(z)>=zlim:\n",
    "            return 1\n",
    "    return 0"
   ]
  },
  {
   "cell_type": "code",
   "execution_count": 6,
   "id": "5b0d36fe",
   "metadata": {},
   "outputs": [],
   "source": [
    "div = np.asarray([f(c,30,50) for c in C])"
   ]
  },
  {
   "cell_type": "code",
   "execution_count": 7,
   "id": "5ca48eeb",
   "metadata": {},
   "outputs": [
    {
     "data": {
      "image/png": "[encoded data removed]",
      "text/plain": [
       "<Figure size 432x288 with 1 Axes>"
      ]
     },
     "metadata": {
      "needs_background": "light"
     },
     "output_type": "display_data"
    }
   ],
   "source": [
    "plt.plot(div)\n",
    "plt.show()"
   ]
  },
  {
   "cell_type": "markdown",
   "id": "39ba089d",
   "metadata": {},
   "source": [
    "# (3)"
   ]
  },
  {
   "cell_type": "code",
   "execution_count": 8,
   "id": "08b9325d",
   "metadata": {},
   "outputs": [
    {
     "name": "stdout",
     "output_type": "stream",
     "text": [
      "(-0.125-0.9j)\n",
      "(-0.919375-0.675j)\n",
      "(0.264625390625+0.34115625000000016j)\n",
      "(-0.17136098955062876-0.7194427881591796j)\n",
      "(-0.6132333366944835-0.6534311437919592j)\n",
      "(-0.1759171344438183-0.09858847878472798j)\n",
      "(-0.10377284995816233-0.865313194646031j)\n",
      "(-0.8629981204400805-0.7204079673703586j)\n",
      "(0.10077811643241996+0.3434214435813566j)\n",
      "(-0.23278205915983652-0.8307812675467366j)\n",
      "(-0.7610100274398688-0.5132180516581032j)\n",
      "(0.19074349331629042-0.11887183285006186j)\n",
      "(-0.10274743240263132-0.9453480573094619j)\n",
      "(-1.0081259145934403-0.7057358287692744j)\n",
      "(0.3932547996662057+0.5229411556787685j)\n",
      "(-0.24381811484213844-0.4887017611726636j)\n",
      "(-0.30438213824808896-0.6616913157416964j)\n",
      "(-0.4701869112434986-0.4971859649087022j)\n",
      "(-0.1511181521974956-0.4324593336919177j)\n",
      "(-0.289184379373672-0.7692950891838345j)\n",
      "(-0.6331873289686281-0.4550637541583184j)\n",
      "(0.06884317321776318-0.323718793988116j)\n",
      "(-0.22505447508242932-0.9445716580167386j)\n",
      "(-0.9665661003738627-0.47483984265460594j)\n",
      "(0.5837771502196851+0.01792819003360202j)\n",
      "(0.21547434112073588-0.8790678646271737j)\n",
      "(-0.8513311189387637-1.2788331378619051j)\n",
      "(-1.035649520420199+1.277420892383892j)\n",
      "(-0.6842342071522705-3.54592066914424j)\n",
      "(-12.230376941627041+3.952480435353515j)\n",
      "(133.8350185424301-97.58065115755929j)\n",
      "diverges\n"
     ]
    }
   ],
   "source": [
    "C=complex(-0.125,-0.9)\n",
    "z = 0\n",
    "for i in range(50):\n",
    "    z = mandelbrot(z,C)\n",
    "    print(z)\n",
    "    if np.abs(z)>=50:\n",
    "        print('diverges')\n",
    "        break"
   ]
  },
  {
   "cell_type": "markdown",
   "id": "047beb5f",
   "metadata": {},
   "source": [
    "| C | Diverges? Yes/No |\n",
    "| --- | --- |\n",
    "| -0.4 + 0.2i | no |\n",
    "|  0.4 + 0.6i | yes |\n",
    "| -1.7 | no |\n",
    "| -1.7 + 0.001i | yes |\n",
    "| -1.778 | no |\n",
    "| -1.778 + 0.001i | no |\n",
    "| -1.25 | no |\n",
    "| -1.25 + 0.04i | no |\n",
    "| -0.125 - 0.9i | yes |\n",
    "| -0.125 - 0.85i | no |"
   ]
  },
  {
   "cell_type": "markdown",
   "id": "badc39df",
   "metadata": {},
   "source": [
    "# (4)"
   ]
  },
  {
   "cell_type": "code",
   "execution_count": 9,
   "id": "2ea50c3c",
   "metadata": {},
   "outputs": [],
   "source": [
    "C=complex(-0.125,-0.85)\n",
    "\n",
    "test = np.asarray([f(C,50,50)])"
   ]
  },
  {
   "cell_type": "code",
   "execution_count": 10,
   "id": "794e96cf",
   "metadata": {},
   "outputs": [],
   "source": [
    "N = 201\n",
    "step = 2.5/N\n",
    "Re = np.arange(-2.0,0.5,step)\n",
    "Im = np.arange(-1.25,1.25,step)"
   ]
  },
  {
   "cell_type": "code",
   "execution_count": 11,
   "id": "84354f24",
   "metadata": {},
   "outputs": [],
   "source": [
    "grid = np.zeros((N,N))\n",
    "for i in range(N):\n",
    "    for j in range(N):\n",
    "        C = complex(Re[i],Im[j])\n",
    "        x = f(C,50,50)\n",
    "        if x==1:\n",
    "            grid[i,j]=1"
   ]
  },
  {
   "cell_type": "code",
   "execution_count": 12,
   "id": "f62e1832",
   "metadata": {},
   "outputs": [
    {
     "data": {
      "image/png": "[encoded data removed]",
      "text/plain": [
       "<Figure size 432x288 with 1 Axes>"
      ]
     },
     "metadata": {
      "needs_background": "light"
     },
     "output_type": "display_data"
    }
   ],
   "source": [
    "plt.imshow(grid)\n",
    "plt.show()"
   ]
  },
  {
   "cell_type": "markdown",
   "id": "7d480476",
   "metadata": {},
   "source": [
    "# (5)"
   ]
  },
  {
   "cell_type": "code",
   "execution_count": 13,
   "id": "7ac335ff",
   "metadata": {},
   "outputs": [],
   "source": [
    "def f2(C,nmax,zlim):\n",
    "    z=0\n",
    "    for i in range(nmax):\n",
    "        z = mandelbrot(z,C)\n",
    "        if np.abs(z)>=zlim:\n",
    "            return i\n",
    "    return nmax"
   ]
  },
  {
   "cell_type": "code",
   "execution_count": 14,
   "id": "7277c267",
   "metadata": {},
   "outputs": [],
   "source": [
    "n_max=50\n",
    "grid = np.zeros((N,N))\n",
    "for i in range(N):\n",
    "    for j in range(N):\n",
    "        C = complex(Re[i],Im[j])\n",
    "        x = f2(C,n_max,50)\n",
    "        grid[i,j]=x"
   ]
  },
  {
   "cell_type": "code",
   "execution_count": 15,
   "id": "2d9b690b",
   "metadata": {
    "scrolled": false
   },
   "outputs": [
    {
     "data": {
      "image/png": "[encoded data removed]",
      "text/plain": [
       "<Figure size 432x288 with 1 Axes>"
      ]
     },
     "metadata": {
      "needs_background": "light"
     },
     "output_type": "display_data"
    }
   ],
   "source": [
    "plt.imshow(grid)\n",
    "plt.show()"
   ]
  },
  {
   "cell_type": "markdown",
   "id": "a830ac78",
   "metadata": {},
   "source": [
    "# (6)"
   ]
  },
  {
   "cell_type": "code",
   "execution_count": 16,
   "id": "93a48b73",
   "metadata": {},
   "outputs": [],
   "source": [
    "N = 201\n",
    "stepRe = (0.8-0.5)/N\n",
    "stepIm = (0.15-0.05)/N\n",
    "Re = np.arange(-0.8,-0.5,stepRe)\n",
    "Im = np.arange(0.05,0.15,stepIm)"
   ]
  },
  {
   "cell_type": "code",
   "execution_count": 17,
   "id": "0c5e1cb6",
   "metadata": {},
   "outputs": [],
   "source": [
    "grid = np.zeros((N,N))\n",
    "for i in range(N):\n",
    "    for j in range(N):\n",
    "        C = complex(Re[i],Im[j])\n",
    "        x = f(C,50,50)\n",
    "        if x==1:\n",
    "            grid[i,j]=1"
   ]
  },
  {
   "cell_type": "code",
   "execution_count": 18,
   "id": "4a0a22d0",
   "metadata": {},
   "outputs": [
    {
     "data": {
      "image/png": "[encoded data removed]",
      "text/plain": [
       "<Figure size 432x288 with 1 Axes>"
      ]
     },
     "metadata": {
      "needs_background": "light"
     },
     "output_type": "display_data"
    }
   ],
   "source": [
    "plt.imshow(grid)\n",
    "plt.show()"
   ]
  },
  {
   "cell_type": "code",
   "execution_count": 19,
   "id": "8df94df8",
   "metadata": {},
   "outputs": [],
   "source": [
    "def f2(C,nmax,zlim):\n",
    "    z=0\n",
    "    for i in range(nmax):\n",
    "        z = mandelbrot(z,C)\n",
    "        if np.abs(z)>=zlim:\n",
    "            return i\n",
    "    return nmax"
   ]
  },
  {
   "cell_type": "code",
   "execution_count": 20,
   "id": "fd86f497",
   "metadata": {},
   "outputs": [],
   "source": [
    "n_max=50\n",
    "grid = np.zeros((N,N))\n",
    "for i in range(N):\n",
    "    for j in range(N):\n",
    "        C = complex(Re[i],Im[j])\n",
    "        x = f2(C,n_max,50)\n",
    "        grid[i,j]=x"
   ]
  },
  {
   "cell_type": "code",
   "execution_count": 21,
   "id": "015027c8",
   "metadata": {
    "scrolled": true
   },
   "outputs": [
    {
     "data": {
      "image/png": "[encoded data removed]",
      "text/plain": [
       "<Figure size 432x288 with 1 Axes>"
      ]
     },
     "metadata": {
      "needs_background": "light"
     },
     "output_type": "display_data"
    }
   ],
   "source": [
    "plt.imshow(grid)\n",
    "plt.show()"
   ]
  },
  {
   "cell_type": "markdown",
   "id": "dde196b0",
   "metadata": {},
   "source": [
    "# (8)"
   ]
  },
  {
   "cell_type": "code",
   "execution_count": 22,
   "id": "f721a7da",
   "metadata": {},
   "outputs": [
    {
     "ename": "NameError",
     "evalue": "name 'A' is not defined",
     "output_type": "error",
     "traceback": [
      "\u001b[1;31m---------------------------------------------------------------------------\u001b[0m",
      "\u001b[1;31mNameError\u001b[0m                                 Traceback (most recent call last)",
      "\u001b[1;32m<ipython-input-22-0366eb817069>\u001b[0m in \u001b[0;36m<module>\u001b[1;34m\u001b[0m\n\u001b[0;32m      3\u001b[0m \u001b[0mplt\u001b[0m\u001b[1;33m.\u001b[0m\u001b[0mrcParams\u001b[0m\u001b[1;33m[\u001b[0m\u001b[1;34m'figure.figsize'\u001b[0m\u001b[1;33m]\u001b[0m \u001b[1;33m=\u001b[0m \u001b[1;33m[\u001b[0m\u001b[1;36m5\u001b[0m\u001b[1;33m,\u001b[0m \u001b[1;36m5\u001b[0m\u001b[1;33m]\u001b[0m\u001b[1;33m\u001b[0m\u001b[1;33m\u001b[0m\u001b[0m\n\u001b[0;32m      4\u001b[0m \u001b[1;32mfrom\u001b[0m \u001b[0mmatplotlib\u001b[0m \u001b[1;32mimport\u001b[0m \u001b[0mcm\u001b[0m\u001b[1;33m\u001b[0m\u001b[1;33m\u001b[0m\u001b[0m\n\u001b[1;32m----> 5\u001b[1;33m \u001b[0mmin\u001b[0m \u001b[1;33m=\u001b[0m \u001b[0mA\u001b[0m\u001b[1;33m.\u001b[0m\u001b[0mmin\u001b[0m\u001b[1;33m(\u001b[0m\u001b[1;33m)\u001b[0m\u001b[1;33m\u001b[0m\u001b[1;33m\u001b[0m\u001b[0m\n\u001b[0m\u001b[0;32m      6\u001b[0m \u001b[0mA\u001b[0m\u001b[1;33m-=\u001b[0m \u001b[0mmin\u001b[0m\u001b[1;33m\u001b[0m\u001b[1;33m\u001b[0m\u001b[0m\n\u001b[0;32m      7\u001b[0m \u001b[0mmax\u001b[0m \u001b[1;33m=\u001b[0m \u001b[0mA\u001b[0m\u001b[1;33m.\u001b[0m\u001b[0mmax\u001b[0m\u001b[1;33m(\u001b[0m\u001b[1;33m)\u001b[0m\u001b[1;33m\u001b[0m\u001b[1;33m\u001b[0m\u001b[0m\n",
      "\u001b[1;31mNameError\u001b[0m: name 'A' is not defined"
     ]
    }
   ],
   "source": [
    "%matplotlib qt\n",
    "\n",
    "plt.rcParams['figure.figsize'] = [5, 5]\n",
    "from matplotlib import cm\n",
    "min = A.min()\n",
    "A-= min\n",
    "max = A.max()\n",
    "while (True):\n",
    "    A = (A + 2) % max; \n",
    "    plt.imshow(A,cmap='gist_ncar',interpolation='nearest',animated=True)\n",
    "    plt.draw()\n",
    "    plt.pause(0.2)"
   ]
  },
  {
   "cell_type": "code",
   "execution_count": null,
   "id": "5aa40539",
   "metadata": {},
   "outputs": [],
   "source": []
  }
 ],
 "metadata": {
  "kernelspec": {
   "display_name": "Python 3",
   "language": "python",
   "name": "python3"
  },
  "language_info": {
   "codemirror_mode": {
    "name": "ipython",
    "version": 3
   },
   "file_extension": ".py",
   "mimetype": "text/x-python",
   "name": "python",
   "nbconvert_exporter": "python",
   "pygments_lexer": "ipython3",
   "version": "3.8.8"
  }
 },
 "nbformat": 4,
 "nbformat_minor": 5
}
