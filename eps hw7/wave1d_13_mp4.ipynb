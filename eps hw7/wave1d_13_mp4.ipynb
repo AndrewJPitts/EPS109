{
 "cells": [
  {
   "cell_type": "code",
   "execution_count": 1,
   "metadata": {},
   "outputs": [],
   "source": [
    "#On a Mac, we recommend you increase the resolution of your graphics with the following command.\n",
    " # %config InlineBackend.figure_format = 'retina'\n",
    "\n",
    "#We also need to have your graphics window pop out of your notebook. On a new Mac, do\n",
    "%matplotlib qt\n",
    "#On an older Mac, change osx' to 'tk'\n",
    "#On PCs, change 'osx' to 'qt'\n",
    "\n",
    "#Important: Whenever you change any %matplotlib command. You need to shutdown and restart your Python kernal!"
   ]
  },
  {
   "cell_type": "code",
   "execution_count": 2,
   "metadata": {},
   "outputs": [],
   "source": [
    "#load the libraries as usual\n",
    "import matplotlib.pyplot as plt\n",
    "import numpy as np"
   ]
  },
  {
   "cell_type": "code",
   "execution_count": 3,
   "metadata": {},
   "outputs": [],
   "source": [
    "plt.rcParams['animation.ffmpeg_path']=r'C:\\Program Files\\ffmpeg\\bin\\ffmpeg.exe'"
   ]
  },
  {
   "cell_type": "code",
   "execution_count": 4,
   "metadata": {},
   "outputs": [
    {
     "name": "stdout",
     "output_type": "stream",
     "text": [
      "After about 5-10 seconds, a window should pop out and a moving wave should appear.\n",
      "0..........10..........20..........30..........40..........50..........60..........70..........80..........90..........\n",
      "The code finished properly. Locate the file wave1dtest.mp4 and try to play it back outside of Jupyter and compare it with the provided animtion file wave1d_from_BM.mp4\n"
     ]
    }
   ],
   "source": [
    "print('After about 5-10 seconds, a window should pop out and a moving wave should appear.')\n",
    "from matplotlib.animation import FFMpegWriter\n",
    "metadata = dict(title='My first animation in 2D', artist='Matplotlib',comment='Wakanda is coming.')\n",
    "writer = FFMpegWriter(fps=15, metadata=metadata)\n",
    "fig = plt.figure()\n",
    "\n",
    "filename = \"wave1dtest.mp4\"\n",
    "with writer.saving(fig, filename, dpi=200):\n",
    "    nf = 100\n",
    "    for it in range(nf):\n",
    "        if (it%10==0): print(it,end='')\n",
    "        print('.',end='')\n",
    "\n",
    "        n = 50\n",
    "        y = np.zeros(n)\n",
    "        f = 2.0*np.pi/n\n",
    "        for i in range(n):\n",
    "            y[i] = np.cos(f*(i+it)) + np.sin(f*it)*np.cos(3*f*(i+it))\n",
    "        plt.clf()\n",
    "        plt.plot(y, 'ro-',mfc='w')\n",
    "        plt.show()\n",
    "        plt.draw()\n",
    "        plt.pause(0.05) # On Macs 0.01 seems fine, on PCs use 0.05 or 0.1\n",
    "        writer.grab_frame()\n",
    "        \n",
    "print('')\n",
    "print('The code finished properly. Locate the file '+filename+' and try to play it back outside of Jupyter and compare it with the provided animtion file wave1d_from_BM.mp4')"
   ]
  },
  {
   "cell_type": "code",
   "execution_count": null,
   "metadata": {},
   "outputs": [],
   "source": []
  }
 ],
 "metadata": {
  "kernelspec": {
   "display_name": "Python 3",
   "language": "python",
   "name": "python3"
  },
  "language_info": {
   "codemirror_mode": {
    "name": "ipython",
    "version": 3
   },
   "file_extension": ".py",
   "mimetype": "text/x-python",
   "name": "python",
   "nbconvert_exporter": "python",
   "pygments_lexer": "ipython3",
   "version": "3.8.8"
  }
 },
 "nbformat": 4,
 "nbformat_minor": 4
}
