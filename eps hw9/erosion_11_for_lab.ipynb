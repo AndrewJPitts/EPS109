{
 "cells": [
  {
   "cell_type": "code",
   "execution_count": 1,
   "metadata": {
    "jupyter": {
     "outputs_hidden": true
    }
   },
   "outputs": [],
   "source": [
    "## Import necessary packages\n",
    "\n",
    "%matplotlib inline\n",
    "# On Macs use osx\n",
    "# For Windows use qt\n",
    "\n",
    "import numpy as np\n",
    "from numpy.random import rand\n",
    "from landscape import Landscape # Import methods from inside file landscape.py\n",
    "\n",
    "from mpl_toolkits.mplot3d import Axes3D\n",
    "import matplotlib.pyplot as plt\n",
    "from matplotlib import cm"
   ]
  },
  {
   "cell_type": "code",
   "execution_count": 2,
   "metadata": {},
   "outputs": [],
   "source": [
    "### Define simulation grid and initial conditions\n",
    "\n",
    "# small random features in topography to begin erosion\n",
    "def initial_conditions(NX,NY):\n",
    "    Z = rand(NX,NY)\n",
    "    return Z\n",
    "\n",
    "NX = 70 #number of rows\n",
    "NY = 70 #number of columns\n",
    "\n",
    "d  = 5 # grid spacing in meters\n",
    "dx = d # keep dx=dy for simplicity\n",
    "dy = d\n",
    "\n",
    "LX=NX*dx\n",
    "LY=NY*dy\n",
    "\n",
    "Z = initial_conditions(NX,NY)\n",
    "\n",
    "x = np.arange(NX)\n",
    "y = np.arange(NY)\n",
    "X,Y = np.meshgrid(y,x) #strange that y goes first !!!"
   ]
  },
  {
   "cell_type": "code",
   "execution_count": 3,
   "metadata": {
    "jupyter": {
     "outputs_hidden": true
    }
   },
   "outputs": [],
   "source": [
    "### Physical Parameters\n",
    "K = 1.0e-6 # meters^(1-2m)/yr\n",
    "\n",
    "D = 0.005 # m^2/yr\n",
    "\n",
    "# uplift rate\n",
    "uplift = 0.03 / 600."
   ]
  },
  {
   "cell_type": "markdown",
   "metadata": {},
   "source": [
    "$\\frac{1}{8} > D \\left( \\frac{\\Delta t}{\\Delta x^{2}} \\right)$\n",
    "\\\n",
    "$\\left( \\frac{1}{8} \\right) \\left( \\frac{\\Delta x^2}{D} \\right) > \\Delta t$\n",
    "\\\n",
    "$\\left( \\frac{1}{8} \\right) \\left[ \\frac{ \\left( 5 \\right)^2}{5 \\times 10^{-3}} \\right] > \\Delta t$\n",
    "\n",
    "$625 > \\Delta t$"
   ]
  },
  {
   "cell_type": "code",
   "execution_count": 9,
   "metadata": {},
   "outputs": [
    {
     "name": "stdout",
     "output_type": "stream",
     "text": [
      " dt[years] =  0.5\n"
     ]
    }
   ],
   "source": [
    "### Model parameters\n",
    "\n",
    "# Set the time step dt\n",
    "# Remember for 2D diffusion problems we need eta = D * dt / dx^2 < 1/4\n",
    "# but because of the fluvial erosion terms please use eta < 1/8 or less\n",
    "dt = 0.5    \n",
    "print(' dt[years] = ',dt)\n",
    "\n",
    "#Area exponent A^m, default m=1\n",
    "m=1\n",
    "\n",
    "#gradient exponent g^n, default n=1\n",
    "n=1\n",
    "\n",
    "#erosion threshold \n",
    "theta_c = 10 "
   ]
  },
  {
   "cell_type": "code",
   "execution_count": 10,
   "metadata": {},
   "outputs": [
    {
     "name": "stdout",
     "output_type": "stream",
     "text": [
      "Number of interations:  2500000\n"
     ]
    }
   ],
   "source": [
    "# Total simulation time\n",
    "T = 2000.0 * 625.0\n",
    "\n",
    "# total number of iterations\n",
    "n_iter = int(np.round(T/dt))\n",
    "print('Number of interations: ',n_iter)"
   ]
  },
  {
   "cell_type": "code",
   "execution_count": 11,
   "metadata": {
    "jupyter": {
     "outputs_hidden": true
    }
   },
   "outputs": [],
   "source": [
    "# Initialize landscape \n",
    "ls = Landscape(NX,NY)\n",
    "ls.pool_check(Z,NX,NY)\n",
    "ls.A = np.zeros((NX,NY))"
   ]
  },
  {
   "cell_type": "code",
   "execution_count": 12,
   "metadata": {},
   "outputs": [],
   "source": [
    "# Set-up figure\n",
    "def init_figure():\n",
    "    fig = plt.figure(figsize=(12.,6.))\n",
    "    plt.show()\n",
    "    return fig\n",
    "\n",
    "def update_figure():\n",
    "        plt.clf()\n",
    "        ax1 = fig.add_subplot(121,projection='3d')\n",
    "\n",
    "        # use equal x-y aspect with an explicit vertical exageration\n",
    "        vert_exag = 4.\n",
    "        ax1.set_xlim3d(0,max(NX,NY))\n",
    "        ax1.set_ylim3d(0,max(NX,NY))\n",
    "        ax1.set_zlim3d(0,max(NX,NY) / vert_exag)\n",
    "\n",
    "        ax1.set_title('Surface Relief x '+str(vert_exag))\n",
    "\n",
    "#        surf = ax1.plot_surface(X,Y,Z, color='yellowgreen', rstride=1, cstride=1,\n",
    "#                antialiased=False,linewidth=0)\n",
    "        surf = ax1.plot_surface(X,Y,Z, cmap = cm.terrain, rstride=1, cstride=1,\n",
    "                antialiased=False,linewidth=0)\n",
    "\n",
    "        ax2 = fig.add_subplot(122,aspect='equal')\n",
    "        ax2.set_title('Elevation')\n",
    "\n",
    "        #im = ax2.pcolor(Z,cmap=cm.terrain)\n",
    "        im = ax2.pcolor(Z,cmap=cm.coolwarm)\n",
    "        cs = ax2.contour(Z,6,colors='k')\n",
    "\n",
    "        # Add a color bar which maps values to colors.\n",
    "        cbar = fig.colorbar(im, shrink=0.5, aspect=5)\n",
    "        # Add the contour line levels to the colorbar\n",
    "        cbar.add_lines(cs)\n",
    "\n",
    "        #plt.show()\n",
    "        plt.draw()\n",
    "        plt.pause(0.05)"
   ]
  },
  {
   "cell_type": "code",
   "execution_count": 13,
   "metadata": {},
   "outputs": [
    {
     "data": {
      "text/plain": [
       "<Figure size 864x432 with 0 Axes>"
      ]
     },
     "metadata": {},
     "output_type": "display_data"
    },
    {
     "name": "stdout",
     "output_type": "stream",
     "text": [
      ".........10"
     ]
    },
    {
     "data": {
      "text/plain": [
       "<Figure size 432x288 with 0 Axes>"
      ]
     },
     "metadata": {},
     "output_type": "display_data"
    },
    {
     "name": "stdout",
     "output_type": "stream",
     "text": [
      ".........20"
     ]
    },
    {
     "name": "stderr",
     "output_type": "stream",
     "text": [
      "<ipython-input-12-ff67b0497806>:24: MatplotlibDeprecationWarning: Adding an axes using the same arguments as a previous axes currently reuses the earlier instance.  In a future version, a new instance will always be created and returned.  Meanwhile, this warning can be suppressed, and the future behavior ensured, by passing a unique label to each axes instance.\n",
      "  ax2 = fig.add_subplot(122,aspect='equal')\n"
     ]
    },
    {
     "data": {
      "text/plain": [
       "<Figure size 432x288 with 0 Axes>"
      ]
     },
     "metadata": {},
     "output_type": "display_data"
    },
    {
     "name": "stdout",
     "output_type": "stream",
     "text": [
      ".........30"
     ]
    },
    {
     "data": {
      "text/plain": [
       "<Figure size 432x288 with 0 Axes>"
      ]
     },
     "metadata": {},
     "output_type": "display_data"
    },
    {
     "name": "stdout",
     "output_type": "stream",
     "text": [
      ".........40"
     ]
    },
    {
     "data": {
      "text/plain": [
       "<Figure size 432x288 with 0 Axes>"
      ]
     },
     "metadata": {},
     "output_type": "display_data"
    },
    {
     "name": "stdout",
     "output_type": "stream",
     "text": [
      ".........50"
     ]
    },
    {
     "data": {
      "text/plain": [
       "<Figure size 432x288 with 0 Axes>"
      ]
     },
     "metadata": {},
     "output_type": "display_data"
    },
    {
     "name": "stdout",
     "output_type": "stream",
     "text": [
      ".........60"
     ]
    },
    {
     "data": {
      "text/plain": [
       "<Figure size 432x288 with 0 Axes>"
      ]
     },
     "metadata": {},
     "output_type": "display_data"
    },
    {
     "name": "stdout",
     "output_type": "stream",
     "text": [
      ".........70"
     ]
    },
    {
     "data": {
      "text/plain": [
       "<Figure size 432x288 with 0 Axes>"
      ]
     },
     "metadata": {},
     "output_type": "display_data"
    },
    {
     "name": "stdout",
     "output_type": "stream",
     "text": [
      ".........80"
     ]
    },
    {
     "data": {
      "text/plain": [
       "<Figure size 432x288 with 0 Axes>"
      ]
     },
     "metadata": {},
     "output_type": "display_data"
    },
    {
     "name": "stdout",
     "output_type": "stream",
     "text": [
      ".........90"
     ]
    },
    {
     "data": {
      "text/plain": [
       "<Figure size 432x288 with 0 Axes>"
      ]
     },
     "metadata": {},
     "output_type": "display_data"
    },
    {
     "name": "stdout",
     "output_type": "stream",
     "text": [
      ".........100"
     ]
    },
    {
     "data": {
      "text/plain": [
       "<Figure size 432x288 with 0 Axes>"
      ]
     },
     "metadata": {},
     "output_type": "display_data"
    },
    {
     "name": "stdout",
     "output_type": "stream",
     "text": [
      ".........110"
     ]
    },
    {
     "data": {
      "text/plain": [
       "<Figure size 432x288 with 0 Axes>"
      ]
     },
     "metadata": {},
     "output_type": "display_data"
    },
    {
     "name": "stdout",
     "output_type": "stream",
     "text": [
      ".........120"
     ]
    },
    {
     "data": {
      "text/plain": [
       "<Figure size 432x288 with 0 Axes>"
      ]
     },
     "metadata": {},
     "output_type": "display_data"
    },
    {
     "name": "stdout",
     "output_type": "stream",
     "text": [
      ".........130"
     ]
    },
    {
     "data": {
      "text/plain": [
       "<Figure size 432x288 with 0 Axes>"
      ]
     },
     "metadata": {},
     "output_type": "display_data"
    },
    {
     "name": "stdout",
     "output_type": "stream",
     "text": [
      ".........140"
     ]
    },
    {
     "data": {
      "text/plain": [
       "<Figure size 432x288 with 0 Axes>"
      ]
     },
     "metadata": {},
     "output_type": "display_data"
    },
    {
     "name": "stdout",
     "output_type": "stream",
     "text": [
      ".........150"
     ]
    },
    {
     "data": {
      "text/plain": [
       "<Figure size 432x288 with 0 Axes>"
      ]
     },
     "metadata": {},
     "output_type": "display_data"
    },
    {
     "name": "stdout",
     "output_type": "stream",
     "text": [
      ".........160"
     ]
    },
    {
     "data": {
      "text/plain": [
       "<Figure size 432x288 with 0 Axes>"
      ]
     },
     "metadata": {},
     "output_type": "display_data"
    },
    {
     "name": "stdout",
     "output_type": "stream",
     "text": [
      ".........170"
     ]
    },
    {
     "data": {
      "text/plain": [
       "<Figure size 432x288 with 0 Axes>"
      ]
     },
     "metadata": {},
     "output_type": "display_data"
    },
    {
     "name": "stdout",
     "output_type": "stream",
     "text": [
      ".........180"
     ]
    },
    {
     "data": {
      "text/plain": [
       "<Figure size 432x288 with 0 Axes>"
      ]
     },
     "metadata": {},
     "output_type": "display_data"
    },
    {
     "name": "stdout",
     "output_type": "stream",
     "text": [
      ".........190"
     ]
    },
    {
     "data": {
      "text/plain": [
       "<Figure size 432x288 with 0 Axes>"
      ]
     },
     "metadata": {},
     "output_type": "display_data"
    },
    {
     "name": "stdout",
     "output_type": "stream",
     "text": [
      ".........200"
     ]
    },
    {
     "data": {
      "text/plain": [
       "<Figure size 432x288 with 0 Axes>"
      ]
     },
     "metadata": {},
     "output_type": "display_data"
    },
    {
     "name": "stdout",
     "output_type": "stream",
     "text": [
      ".........210"
     ]
    },
    {
     "data": {
      "text/plain": [
       "<Figure size 432x288 with 0 Axes>"
      ]
     },
     "metadata": {},
     "output_type": "display_data"
    },
    {
     "name": "stdout",
     "output_type": "stream",
     "text": [
      ".........220"
     ]
    },
    {
     "data": {
      "text/plain": [
       "<Figure size 432x288 with 0 Axes>"
      ]
     },
     "metadata": {},
     "output_type": "display_data"
    },
    {
     "name": "stdout",
     "output_type": "stream",
     "text": [
      ".........230"
     ]
    },
    {
     "data": {
      "text/plain": [
       "<Figure size 432x288 with 0 Axes>"
      ]
     },
     "metadata": {},
     "output_type": "display_data"
    },
    {
     "name": "stdout",
     "output_type": "stream",
     "text": [
      ".........240"
     ]
    },
    {
     "data": {
      "text/plain": [
       "<Figure size 432x288 with 0 Axes>"
      ]
     },
     "metadata": {},
     "output_type": "display_data"
    },
    {
     "name": "stdout",
     "output_type": "stream",
     "text": [
      ".........250"
     ]
    },
    {
     "data": {
      "text/plain": [
       "<Figure size 432x288 with 0 Axes>"
      ]
     },
     "metadata": {},
     "output_type": "display_data"
    },
    {
     "name": "stdout",
     "output_type": "stream",
     "text": [
      ".........260"
     ]
    },
    {
     "data": {
      "text/plain": [
       "<Figure size 432x288 with 0 Axes>"
      ]
     },
     "metadata": {},
     "output_type": "display_data"
    },
    {
     "name": "stdout",
     "output_type": "stream",
     "text": [
      ".........270"
     ]
    },
    {
     "data": {
      "text/plain": [
       "<Figure size 432x288 with 0 Axes>"
      ]
     },
     "metadata": {},
     "output_type": "display_data"
    },
    {
     "name": "stdout",
     "output_type": "stream",
     "text": [
      ".........280"
     ]
    },
    {
     "data": {
      "text/plain": [
       "<Figure size 432x288 with 0 Axes>"
      ]
     },
     "metadata": {},
     "output_type": "display_data"
    },
    {
     "name": "stdout",
     "output_type": "stream",
     "text": [
      ".........290"
     ]
    },
    {
     "data": {
      "text/plain": [
       "<Figure size 432x288 with 0 Axes>"
      ]
     },
     "metadata": {},
     "output_type": "display_data"
    },
    {
     "name": "stdout",
     "output_type": "stream",
     "text": [
      ".........300"
     ]
    },
    {
     "data": {
      "text/plain": [
       "<Figure size 432x288 with 0 Axes>"
      ]
     },
     "metadata": {},
     "output_type": "display_data"
    },
    {
     "name": "stdout",
     "output_type": "stream",
     "text": [
      ".........310"
     ]
    },
    {
     "data": {
      "text/plain": [
       "<Figure size 432x288 with 0 Axes>"
      ]
     },
     "metadata": {},
     "output_type": "display_data"
    },
    {
     "name": "stdout",
     "output_type": "stream",
     "text": [
      ".........320"
     ]
    },
    {
     "data": {
      "text/plain": [
       "<Figure size 432x288 with 0 Axes>"
      ]
     },
     "metadata": {},
     "output_type": "display_data"
    },
    {
     "name": "stdout",
     "output_type": "stream",
     "text": [
      ".........330"
     ]
    },
    {
     "data": {
      "text/plain": [
       "<Figure size 432x288 with 0 Axes>"
      ]
     },
     "metadata": {},
     "output_type": "display_data"
    },
    {
     "name": "stdout",
     "output_type": "stream",
     "text": [
      ".........340"
     ]
    },
    {
     "data": {
      "text/plain": [
       "<Figure size 432x288 with 0 Axes>"
      ]
     },
     "metadata": {},
     "output_type": "display_data"
    },
    {
     "name": "stdout",
     "output_type": "stream",
     "text": [
      ".........350"
     ]
    },
    {
     "data": {
      "text/plain": [
       "<Figure size 432x288 with 0 Axes>"
      ]
     },
     "metadata": {},
     "output_type": "display_data"
    },
    {
     "name": "stdout",
     "output_type": "stream",
     "text": [
      ".........360"
     ]
    },
    {
     "data": {
      "text/plain": [
       "<Figure size 432x288 with 0 Axes>"
      ]
     },
     "metadata": {},
     "output_type": "display_data"
    },
    {
     "name": "stdout",
     "output_type": "stream",
     "text": [
      ".........370"
     ]
    },
    {
     "data": {
      "text/plain": [
       "<Figure size 432x288 with 0 Axes>"
      ]
     },
     "metadata": {},
     "output_type": "display_data"
    },
    {
     "name": "stdout",
     "output_type": "stream",
     "text": [
      ".........380"
     ]
    },
    {
     "data": {
      "text/plain": [
       "<Figure size 432x288 with 0 Axes>"
      ]
     },
     "metadata": {},
     "output_type": "display_data"
    },
    {
     "name": "stdout",
     "output_type": "stream",
     "text": [
      ".........390"
     ]
    },
    {
     "data": {
      "text/plain": [
       "<Figure size 432x288 with 0 Axes>"
      ]
     },
     "metadata": {},
     "output_type": "display_data"
    },
    {
     "name": "stdout",
     "output_type": "stream",
     "text": [
      ".........400"
     ]
    },
    {
     "data": {
      "text/plain": [
       "<Figure size 432x288 with 0 Axes>"
      ]
     },
     "metadata": {},
     "output_type": "display_data"
    },
    {
     "name": "stdout",
     "output_type": "stream",
     "text": [
      ".........410"
     ]
    },
    {
     "data": {
      "text/plain": [
       "<Figure size 432x288 with 0 Axes>"
      ]
     },
     "metadata": {},
     "output_type": "display_data"
    },
    {
     "name": "stdout",
     "output_type": "stream",
     "text": [
      ".........420"
     ]
    },
    {
     "data": {
      "text/plain": [
       "<Figure size 432x288 with 0 Axes>"
      ]
     },
     "metadata": {},
     "output_type": "display_data"
    },
    {
     "name": "stdout",
     "output_type": "stream",
     "text": [
      "."
     ]
    },
    {
     "ename": "KeyboardInterrupt",
     "evalue": "",
     "output_type": "error",
     "traceback": [
      "\u001b[1;31m---------------------------------------------------------------------------\u001b[0m",
      "\u001b[1;31mKeyboardInterrupt\u001b[0m                         Traceback (most recent call last)",
      "\u001b[1;32m<ipython-input-13-343f4c741a82>\u001b[0m in \u001b[0;36m<module>\u001b[1;34m\u001b[0m\n\u001b[0;32m     64\u001b[0m     \u001b[0mZ\u001b[0m \u001b[1;33m=\u001b[0m \u001b[0mnp\u001b[0m\u001b[1;33m.\u001b[0m\u001b[0mcopy\u001b[0m\u001b[1;33m(\u001b[0m\u001b[0mZnew\u001b[0m\u001b[1;33m)\u001b[0m\u001b[1;33m\u001b[0m\u001b[1;33m\u001b[0m\u001b[0m\n\u001b[0;32m     65\u001b[0m \u001b[1;33m\u001b[0m\u001b[0m\n\u001b[1;32m---> 66\u001b[1;33m     \u001b[0mls\u001b[0m\u001b[1;33m.\u001b[0m\u001b[0mpool_check\u001b[0m\u001b[1;33m(\u001b[0m\u001b[0mZ\u001b[0m\u001b[1;33m,\u001b[0m\u001b[0mNX\u001b[0m\u001b[1;33m,\u001b[0m\u001b[0mNY\u001b[0m\u001b[1;33m)\u001b[0m\u001b[1;33m\u001b[0m\u001b[1;33m\u001b[0m\u001b[0m\n\u001b[0m\u001b[0;32m     67\u001b[0m \u001b[1;33m\u001b[0m\u001b[0m\n\u001b[0;32m     68\u001b[0m     \u001b[1;32mif\u001b[0m \u001b[1;33m(\u001b[0m\u001b[0mnp\u001b[0m\u001b[1;33m.\u001b[0m\u001b[0mmod\u001b[0m\u001b[1;33m(\u001b[0m\u001b[0mit\u001b[0m\u001b[1;33m,\u001b[0m\u001b[1;36m10\u001b[0m\u001b[1;33m)\u001b[0m\u001b[1;33m==\u001b[0m\u001b[1;36m0\u001b[0m\u001b[1;33m)\u001b[0m\u001b[1;33m:\u001b[0m\u001b[1;33m\u001b[0m\u001b[1;33m\u001b[0m\u001b[0m\n",
      "\u001b[1;32m~\\#EPS 109\\landscape.py\u001b[0m in \u001b[0;36mpool_check\u001b[1;34m(self, Z, NX, NY)\u001b[0m\n\u001b[0;32m    175\u001b[0m \u001b[1;33m\u001b[0m\u001b[0m\n\u001b[0;32m    176\u001b[0m                 \u001b[1;32mif\u001b[0m \u001b[0mPL\u001b[0m\u001b[1;33m:\u001b[0m\u001b[1;33m\u001b[0m\u001b[1;33m\u001b[0m\u001b[0m\n\u001b[1;32m--> 177\u001b[1;33m                     \u001b[0mself\u001b[0m\u001b[1;33m.\u001b[0m\u001b[0mpool\u001b[0m\u001b[1;33m[\u001b[0m\u001b[0mself\u001b[0m\u001b[1;33m.\u001b[0m\u001b[0mpool\u001b[0m\u001b[1;33m==\u001b[0m\u001b[0mPL\u001b[0m\u001b[1;33m]\u001b[0m \u001b[1;33m=\u001b[0m \u001b[0mmax\u001b[0m\u001b[1;33m(\u001b[0m\u001b[1;33m[\u001b[0m\u001b[0mPL\u001b[0m\u001b[1;33m,\u001b[0m\u001b[0mPR\u001b[0m\u001b[1;33m,\u001b[0m\u001b[0mPU\u001b[0m\u001b[1;33m,\u001b[0m\u001b[0mPD\u001b[0m\u001b[1;33m]\u001b[0m\u001b[1;33m)\u001b[0m\u001b[1;33m\u001b[0m\u001b[1;33m\u001b[0m\u001b[0m\n\u001b[0m\u001b[0;32m    178\u001b[0m \u001b[1;33m\u001b[0m\u001b[0m\n\u001b[0;32m    179\u001b[0m                 \u001b[1;32mif\u001b[0m \u001b[0mPR\u001b[0m\u001b[1;33m:\u001b[0m\u001b[1;33m\u001b[0m\u001b[1;33m\u001b[0m\u001b[0m\n",
      "\u001b[1;31mKeyboardInterrupt\u001b[0m: "
     ]
    }
   ],
   "source": [
    "fig = init_figure()\n",
    "Znew = np.copy(Z)\n",
    "\n",
    "for it in range(1,n_iter+1):\n",
    "    \n",
    "    ls.calculate_collection_area(Z,NX,NY)\n",
    "    ls.A = ls.A*(dx*dy)\n",
    "    \n",
    "    for i in range(NX):\n",
    "        iL = np.mod(i-1,NX) # normally i-1 but observe p.b.c.\n",
    "        iR = np.mod(i+1,NX) # normally i+1 but observe p.b.c.\n",
    "\n",
    "        for j in range(NY):\n",
    "            jD = np.mod(j-1,NY) # normally j-1 but observe p.b.c.\n",
    "            jU = np.mod(j+1,NY) # normally j+1 but observe p.b.c.\n",
    "  \n",
    "            if ls.drain[i,j]>0: #regular pointm, not a pool, not a drainage point \n",
    "                ### use Z[i,j] and the indices i,iL,iR,j,jD,jU to derive 4 terms\n",
    "                s1 = (Z[iR,j] - Z[iL,j])/(2*dx) ### enter gradient term 's1'\n",
    "                s2 = (Z[i,jU] - Z[i,jD])/(2*dy) ### enter gradient term 's2'\n",
    "                s3 = (Z[iR,jD] - Z[iL,jU])/(2*np.sqrt(dx**2 + dy**2)) ### enter gradient term 's3'\n",
    "                s4 = (Z[iR,jU] - Z[iL,jD])/(2*np.sqrt(dx**2 + dy**2)) ### enter gradient term 's4'\n",
    "                gradient = 0.5*(np.sqrt(s1**2 + s2**2) + np.sqrt(s3**2 + s4**2)) ### compute gradient from s1-s4\n",
    "                \n",
    "                #use gradient, uplift rate, erosion threshold, and drainage array size stored in ls.A[i,j]\n",
    "                Psi_z = uplift - (ls.A[i,j]*gradient - theta_c) ### see Eq. (15) of Perron (2008) paper\n",
    "\n",
    "            elif ls.drainage[i,j]>0: #this cell is a drainage point (it drains a pool)\n",
    "                \n",
    "                if (Z[i,j]>=Z[iR,j]) and ls.pool[iR,j]!=ls.drainage[i,j]: \n",
    "                    gradient = (Z[i,j]-Z[iR,j])/dx #pool is on my left, I drain to the right, use this gradiant\n",
    "                elif (Z[i,j]>=Z[iL,j]) and ls.pool[iL,j]!=ls.drainage[i,j]:\n",
    "                    gradient = (Z[i,j]-Z[iL,j])/dx\n",
    "                elif (Z[i,j]>=Z[i,jU]) and ls.pool[i,jU]!=ls.drainage[i,j]:\n",
    "                    gradient = (Z[i,j]-Z[i,jU])/dy\n",
    "                elif (Z[i,j]>=Z[i,jD]) and ls.pool[i,jD]!=ls.drainage[i,j]:\n",
    "                    gradient = (Z[i,j]-Z[i,jD])/dy\n",
    "                else:\n",
    "                    gradient = 0.02 # ??? This does happen (maybe when two pools merge)\n",
    "\n",
    "                Psi_z = uplift - (ls.A[i,j]*gradient - theta_c) ### repeat Eq. (15) from above\n",
    "                \n",
    "            else: #this cell is a pool, assume it has some mass diffusion but no erosion!\n",
    "                Psi_z = 0.\n",
    "                \n",
    "            if (Psi_z<0):\n",
    "                Psi_z = 0. \n",
    "\n",
    "            # diffusion term, derive in terms of D,Z[:,:],dx,dy\n",
    "            Phi_z = D*((Z[iR,j] - 2*Z[i,j] + Z[iL,j])/dx**2 + (Z[i,jU] - 2*Z[i,j] + Z[i,jD])/dy**2)\n",
    "           \n",
    "            # insert Phi_z, Psi_z, and uplift terms to obtain new elevation Znew[i,j]\n",
    "            Znew[i,j] = Z[i,j] + ( Phi_z + Psi_z )*dt  \n",
    "\n",
    "            dZdt= (Znew[i,j] - Z[i,j]) / dt\n",
    "            CFL = abs(dZdt) * dt / min(dx,dy)\n",
    "            if (CFL>1.0):\n",
    "                print('\\nWarning: Time step of',dt,'is probably too large. Safer would be:',dt/CFL)\n",
    "\n",
    "            if (Znew[i,j]<0.):\n",
    "                Znew[i,j] = 0. # yes, this does happen at the boundary when kept at zero\n",
    "    \n",
    "    Znew[0,:] = 0.0 # resets front boundary to 0\n",
    "    Z = np.copy(Znew)\n",
    "    \n",
    "    ls.pool_check(Z,NX,NY)\n",
    "\n",
    "    if (np.mod(it,10)==0): \n",
    "        print(it,end='')\n",
    "        update_figure()\n",
    "    else:\n",
    "        print('.',end='')\n",
    "\n",
    "update_figure()\n",
    "print(' Simulation finished.')\n"
   ]
  },
  {
   "cell_type": "code",
   "execution_count": null,
   "metadata": {},
   "outputs": [],
   "source": []
  }
 ],
 "metadata": {
  "anaconda-cloud": {},
  "kernelspec": {
   "display_name": "Python 3",
   "language": "python",
   "name": "python3"
  },
  "language_info": {
   "codemirror_mode": {
    "name": "ipython",
    "version": 3
   },
   "file_extension": ".py",
   "mimetype": "text/x-python",
   "name": "python",
   "nbconvert_exporter": "python",
   "pygments_lexer": "ipython3",
   "version": "3.8.8"
  }
 },
 "nbformat": 4,
 "nbformat_minor": 4
}
