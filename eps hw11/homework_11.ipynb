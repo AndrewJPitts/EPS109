{
 "cells": [
  {
   "cell_type": "code",
   "execution_count": 40,
   "id": "b970fd28",
   "metadata": {},
   "outputs": [],
   "source": [
    "import matplotlib.pyplot as plt\n",
    "import numpy as np"
   ]
  },
  {
   "cell_type": "code",
   "execution_count": 41,
   "id": "49bcbfdd",
   "metadata": {},
   "outputs": [],
   "source": [
    "ms=10**7\n",
    "mp=10**4\n",
    "ma=1\n",
    "G=1\n",
    "R=20\n",
    "\n",
    "xs=0\n",
    "ys=0\n",
    "xp=20\n",
    "\n",
    "rs=np.array((0,0))\n",
    "rp=np.array((20,0))"
   ]
  },
  {
   "cell_type": "code",
   "execution_count": 42,
   "id": "2e54a5df",
   "metadata": {},
   "outputs": [],
   "source": [
    "rcm=(rp*mp+rs*ms)/(ms+mp)\n",
    "shift=-rcm"
   ]
  },
  {
   "cell_type": "code",
   "execution_count": 43,
   "id": "abe8632d",
   "metadata": {},
   "outputs": [],
   "source": [
    "rs=rs+shift\n",
    "rp=rp+shift\n",
    "xs=rs[0]\n",
    "ys=rs[1]\n",
    "xp=rp[0]\n",
    "yp=rp[1]"
   ]
  },
  {
   "cell_type": "code",
   "execution_count": 44,
   "id": "1f6ae69b",
   "metadata": {},
   "outputs": [],
   "source": [
    "t = 0\n",
    "tMax = 10.0\n",
    "dt   = 0.001;\n",
    "n    = tMax / dt\n",
    "pi=np.pi"
   ]
  },
  {
   "cell_type": "code",
   "execution_count": 45,
   "id": "3d810218",
   "metadata": {},
   "outputs": [],
   "source": [
    "xts = []\n",
    "yts = []\n",
    "xtp = []\n",
    "ytp = []\n",
    "xta = []\n",
    "yta = []\n",
    "\n",
    "vxy = []\n",
    "vyt = []\n",
    "kints = []\n",
    "potts = []\n",
    "ets = []\n",
    "tts = []\n",
    "kintp = []\n",
    "pottp = []\n",
    "etp = []\n",
    "ttp = []\n",
    "kinta = []\n",
    "potta = []\n",
    "eta = []\n",
    "tta = []"
   ]
  },
  {
   "cell_type": "code",
   "execution_count": 46,
   "id": "f3bf30b5",
   "metadata": {},
   "outputs": [],
   "source": [
    "xa=R*np.cos(np.pi/4)\n",
    "ya=R*np.sin(np.pi/4)\n",
    "ra=[xa,ya]"
   ]
  },
  {
   "cell_type": "code",
   "execution_count": 47,
   "id": "edbbc2be",
   "metadata": {},
   "outputs": [],
   "source": [
    "w=(G*(Ms+Mp)/R**3)**(1/2)\n",
    "\n",
    "vsScaler=(w*np.abs(xs))\n",
    "vpScaler=(w*xp)\n",
    "\n",
    "vax = -vpScaler*np.cos(pi/4)\n",
    "vay = vpScaler*np.sin(pi/4)\n",
    "va  = np.array((vax, vay))\n",
    "\n",
    "vsx=0\n",
    "vsy=-vsScaler\n",
    "\n",
    "vpx=0\n",
    "vpy=vpScaler\n",
    "\n",
    "vs=np.array((vsx,vsy))\n",
    "vp=np.array((vpx,vpy))\n",
    "#Va=np.array(Vax,Vay)"
   ]
  },
  {
   "cell_type": "code",
   "execution_count": 54,
   "id": "53321277",
   "metadata": {},
   "outputs": [],
   "source": [
    "def KeplerODE(t,y):\n",
    "    global mp,ms,G\n",
    "\n",
    "    rs = y[0:2]\n",
    "    vs = y[2:4]\n",
    "    rp = y[4:6]\n",
    "    vp = y[6:8]\n",
    "    ra = y[8:10]\n",
    "    va = y[10:12]\n",
    "\n",
    "    drdts = vs\n",
    "    drdtp = vp\n",
    "    drdta = va\n",
    "    \n",
    "    rsp=rs-rp\n",
    "    rps=rp-rs\n",
    "    rsa=rs-ra\n",
    "    ras=ra-rs\n",
    "    rpa=rp-ra\n",
    "    rap=ra-rp    \n",
    "\n",
    "    Fs    = - ms * mp * G / np.linalg.norm(rs)**3 * rs\n",
    "    a_s    = Fs / mp\n",
    "    dvdts = a_s\n",
    "    \n",
    "    Fp    = - ms * mp * G / np.linalg.norm(rp)**3 * rp\n",
    "    ap    = Fp / mp\n",
    "    dvdtp = ap\n",
    "    \n",
    "    Fa    = - ms * mp * G / np.linalg.norm(ra)**3 * ra\n",
    "    aa    = Fa / mp\n",
    "    dvdta = aa\n",
    "    \n",
    "    S = np.concatenate((drdts,dvdts))\n",
    "    A = np.concatenate((drdta,dvdta))\n",
    "    P = np.concatenate((drdtp,dvdtp)) \n",
    "    \n",
    "    return np.concatenate((S,P,A))"
   ]
  },
  {
   "cell_type": "code",
   "execution_count": 55,
   "id": "649d95dd",
   "metadata": {},
   "outputs": [],
   "source": [
    "y = np.concatenate((rs,vs,rp,vp,ra,va))\n",
    "while (t<tMax):\n",
    "    rs = y[0:2]\n",
    "    vs = y[2:4]\n",
    "    rp = y[4:6]\n",
    "    vp = y[6:8]\n",
    "    ra = y[8:10]\n",
    "    va = y[10:12]\n",
    "\n",
    "    kins = 1.0/2.0*ms* np.linalg.norm(vs)**2\n",
    "    pots = -mp*ms*G / np.linalg.norm(rs)\n",
    "    es   = kins+pots\n",
    "    \n",
    "    kinp = 1.0/2.0*mp* np.linalg.norm(vp)**2\n",
    "    potp = -mp*ms*G / np.linalg.norm(rp)\n",
    "    ep   = kinp+potp\n",
    "    \n",
    "    kina = 1.0/2.0*ma* np.linalg.norm(va)**2\n",
    "    pota = -mp*ms*G / np.linalg.norm(ra)\n",
    "    ea   = kina+pota\n",
    "    #if (t==0.0):\n",
    "    #    e0 = e\n",
    "    #print(t,e,e0,e-e0)\n",
    "    \n",
    "    xts.append(rs[0])\n",
    "    yts.append(rs[1])\n",
    "    kints.append(kins)\n",
    "    potts.append(pots)\n",
    "    ets.append(es)\n",
    "    tts.append(t)\n",
    "\n",
    "    xtp.append(rp[0])\n",
    "    ytp.append(rp[1])\n",
    "    kintp.append(kinp)\n",
    "    pottp.append(potp)\n",
    "    etp.append(ep)\n",
    "    ttp.append(t)\n",
    "    \n",
    "    xta.append(ra[0])\n",
    "    yta.append(ra[1])\n",
    "    kinta.append(kina)\n",
    "    potta.append(pota)\n",
    "    eta.append(ea)\n",
    "    tta.append(t)\n",
    "    \n",
    "    #dydt = KeplerODE(t,y)\n",
    "    #y = y + dydt*dt    \n",
    "\n",
    "    f1 = KeplerODE(t       ,y          )\n",
    "    f2 = KeplerODE(t+dt/2.0,y+f1*dt/2.0)\n",
    "    f3 = KeplerODE(t+dt/2.0,y+f2*dt/2.0)\n",
    "    f4 = KeplerODE(t+dt    ,y+f3*dt    )\n",
    "\n",
    "    y = y + (f1 + 2.0*f2 + 2.0*f3 + f4) / 6.0 * dt\n",
    "    t = t + dt\n"
   ]
  },
  {
   "cell_type": "code",
   "execution_count": 60,
   "id": "b419d7af",
   "metadata": {},
   "outputs": [
    {
     "data": {
      "image/png": "[encoded data removed]",
      "text/plain": [
       "<Figure size 432x288 with 1 Axes>"
      ]
     },
     "metadata": {
      "needs_background": "light"
     },
     "output_type": "display_data"
    }
   ],
   "source": [
    "plt.plot(xts,yts,'yo-',label='Star')\n",
    "plt.plot(xtp,ytp,'r-',label='Planet')\n",
    "plt.plot(xta,yta,'b-',label='Asteroid')\n",
    "plt.plot(0,0,'*',mfc='w',ms=10)\n",
    "plt.gca().set_aspect('equal', adjustable='box')\n",
    "plt.xlim(-25,25)\n",
    "plt.ylim(-25,25)\n",
    "plt.legend()\n",
    "plt.show()"
   ]
  },
  {
   "cell_type": "code",
   "execution_count": 57,
   "id": "12330911",
   "metadata": {},
   "outputs": [
    {
     "data": {
      "image/png": "[encoded data removed]",
      "text/plain": [
       "<Figure size 432x288 with 1 Axes>"
      ]
     },
     "metadata": {
      "needs_background": "light"
     },
     "output_type": "display_data"
    }
   ],
   "source": [
    "plt.plot(xts,yts,'yo-',label='Star')\n",
    "plt.plot(0,0,'*',mfc='w',ms=10)\n",
    "plt.gca().set_aspect('equal', adjustable='box')\n",
    "plt.legend()\n",
    "plt.show()"
   ]
  },
  {
   "cell_type": "code",
   "execution_count": 58,
   "id": "ff784b05",
   "metadata": {},
   "outputs": [
    {
     "data": {
      "image/png": "[encoded data removed]",
      "text/plain": [
       "<Figure size 432x288 with 1 Axes>"
      ]
     },
     "metadata": {
      "needs_background": "light"
     },
     "output_type": "display_data"
    }
   ],
   "source": [
    "plt.plot(xtp,ytp,'r-',label='Planet')\n",
    "plt.plot(0,0,'*',mfc='w',ms=10)\n",
    "plt.gca().set_aspect('equal', adjustable='box')\n",
    "plt.legend()\n",
    "plt.show()"
   ]
  },
  {
   "cell_type": "code",
   "execution_count": 59,
   "id": "c13b246e",
   "metadata": {},
   "outputs": [
    {
     "data": {
      "image/png": "[encoded data removed]",
      "text/plain": [
       "<Figure size 432x288 with 1 Axes>"
      ]
     },
     "metadata": {
      "needs_background": "light"
     },
     "output_type": "display_data"
    }
   ],
   "source": [
    "plt.plot(xta,yta,'b-',label='asteroid x')\n",
    "plt.plot(0,0,'*',mfc='w',ms=10)\n",
    "plt.gca().set_aspect('equal', adjustable='box')\n",
    "plt.legend()\n",
    "plt.show()"
   ]
  },
  {
   "cell_type": "code",
   "execution_count": 62,
   "id": "783a439d",
   "metadata": {},
   "outputs": [
    {
     "data": {
      "image/png": "[encoded data removed]",
      "text/plain": [
       "<Figure size 432x288 with 1 Axes>"
      ]
     },
     "metadata": {
      "needs_background": "light"
     },
     "output_type": "display_data"
    }
   ],
   "source": [
    "plt.plot(ttp,kintp,ttp,pottp,ttp,etp);"
   ]
  },
  {
   "cell_type": "code",
   "execution_count": 63,
   "id": "e318c58a",
   "metadata": {},
   "outputs": [
    {
     "data": {
      "image/png": "[encoded data removed]",
      "text/plain": [
       "<Figure size 432x288 with 1 Axes>"
      ]
     },
     "metadata": {
      "needs_background": "light"
     },
     "output_type": "display_data"
    }
   ],
   "source": [
    "plt.plot(tta,kinta,tta,potta,tta,eta);"
   ]
  },
  {
   "cell_type": "code",
   "execution_count": null,
   "id": "21274267",
   "metadata": {},
   "outputs": [],
   "source": []
  }
 ],
 "metadata": {
  "kernelspec": {
   "display_name": "Python 3",
   "language": "python",
   "name": "python3"
  },
  "language_info": {
   "codemirror_mode": {
    "name": "ipython",
    "version": 3
   },
   "file_extension": ".py",
   "mimetype": "text/x-python",
   "name": "python",
   "nbconvert_exporter": "python",
   "pygments_lexer": "ipython3",
   "version": "3.8.8"
  }
 },
 "nbformat": 4,
 "nbformat_minor": 5
}
